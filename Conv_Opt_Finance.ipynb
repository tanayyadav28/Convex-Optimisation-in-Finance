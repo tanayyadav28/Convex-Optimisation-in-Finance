{
  "cells": [
    {
      "cell_type": "markdown",
      "metadata": {
        "id": "g-twTMLS0U6k"
      },
      "source": [
        "# Convex Optimisation in Finance and Portfolio Management\n",
        "## Group No. 28\n",
        "**Members**\n",
        "- Chirag Jain - EE19BTECH11047\n",
        "- Sanket Ranade - EE19BTECH11012\n",
        "- Tanmay Goyal - AI20BTECH11021\n",
        "- Tanay Yadav - AI20BTECH11026"
      ]
    },
    {
      "cell_type": "code",
      "execution_count": 1,
      "metadata": {
        "id": "WOuxSw3v0U67"
      },
      "outputs": [],
      "source": [
        "# importing the required libraries\n",
        "\n",
        "import numpy as np\n",
        "import cvxpy as cp\n",
        "import matplotlib.pyplot as plt"
      ]
    },
    {
      "cell_type": "markdown",
      "metadata": {
        "id": "XFCi-m4w0U6_"
      },
      "source": [
        "# Simple Portfolio Maximisation"
      ]
    },
    {
      "cell_type": "code",
      "execution_count": 2,
      "metadata": {
        "id": "PnaGPrg50U7B"
      },
      "outputs": [],
      "source": [
        "# This function gives the allocation of the money per investment which is given by the weights.\n",
        "# We input the expected returns of the investments\n",
        "\n",
        "def maximize_return(means):\n",
        "    means = np.array(means)\n",
        "    \n",
        "    # gives the allocation of the capital in each investment\n",
        "    weights = cp.Variable(means.shape[0])\n",
        "\n",
        "    # returns = allocation in investment * returns of the investments. \n",
        "    exp_returns = weights.T @ means\n",
        "\n",
        "    # maximizing the expected \n",
        "    objective = cp.Maximize(exp_returns)\n",
        "    constraints = [weights >= 0, cp.sum(cp.abs(weights))<=1]\n",
        "\n",
        "    # formulating the problem\n",
        "    prob = cp.Problem(objective, constraints)\n",
        "    prob.solve()\n",
        "\n",
        "    print(f'Weights: {weights.value.round(3)}, \\nExpected returns: {exp_returns.value.round(5)}')"
      ]
    },
    {
      "cell_type": "code",
      "execution_count": 3,
      "metadata": {
        "colab": {
          "base_uri": "https://localhost:8080/"
        },
        "id": "kBnJpeQO0U7G",
        "outputId": "e0664174-f1ea-43a5-a0ca-53174f804165"
      },
      "outputs": [
        {
          "name": "stdout",
          "output_type": "stream",
          "text": [
            "Weights: [0. 0. 0. 0. 1.], \n",
            "Expected returns: 0.05\n"
          ]
        }
      ],
      "source": [
        "# expected returns of 5 investments\n",
        "inv_ret = np.array([0.01, 0.02, 0.03, 0.04, 0.05])\n",
        "\n",
        "maximize_return(inv_ret)"
      ]
    },
    {
      "cell_type": "markdown",
      "metadata": {
        "id": "OlGlFFa00U7H"
      },
      "source": [
        "**Conclusion:**\n",
        "Here we get 100% allocation of our capital in the Investment #5"
      ]
    },
    {
      "cell_type": "markdown",
      "metadata": {
        "id": "Y5NUWTge0U7I"
      },
      "source": [
        "# Markowitz Portfolio Maximisation"
      ]
    },
    {
      "cell_type": "code",
      "execution_count": 4,
      "metadata": {
        "id": "C94xhP520U7K"
      },
      "outputs": [],
      "source": [
        "def maximize_return_markowitz(means, cov, risk, verbose=True):\n",
        "    \n",
        "    # assessing the risk \n",
        "    if risk == 'low':\n",
        "        risk_n = 1\n",
        "\n",
        "    else:\n",
        "        risk_n = 0\n",
        "\n",
        "    # working with numpy arrays\n",
        "    means = np.array(means)\n",
        "    cov = np.array(cov)\n",
        "\n",
        "    # gives the allocation of the capital in each investment\n",
        "    weights = cp.Variable(means.shape[0])\n",
        "\n",
        "    # returns = allocation in investment * returns of the investments\n",
        "    exp_returns = weights.T @ means\n",
        "\n",
        "    # calculating the volatility with the covariance matrix \n",
        "    exp_vol = cp.quad_form(weights, cov)\n",
        "\n",
        "    # applying the risk factor with the volatility calculated\n",
        "    \n",
        "\n",
        "    # maximizing the expected returns\n",
        "    objective = cp.Maximize(exp_returns - risk_n * exp_vol)\n",
        "    constraints = [weights >= 0, cp.sum(cp.abs(weights)) <= 1]\n",
        "    \n",
        "    # formulating the problem\n",
        "    prob = cp.Problem(objective, constraints)\n",
        "    prob.solve()\n",
        "\n",
        "    w = weights.value.round(3)\n",
        "    er = exp_returns.value.round(5)\n",
        "    pv = exp_vol.value.round(3)\n",
        "    # to print the weights, expected returns and expected variance\n",
        "    if verbose:\n",
        "        print(f'Weights: {w}, \\nExpected returns: {er}, \\nPortfolio Volatility: {pv}')\n",
        "    return w, er"
      ]
    },
    {
      "cell_type": "code",
      "execution_count": 5,
      "metadata": {
        "colab": {
          "base_uri": "https://localhost:8080/"
        },
        "id": "_T6cHle00U7M",
        "outputId": "837b5915-65f0-4d6a-d5c1-d4353e7a04b5"
      },
      "outputs": [
        {
          "name": "stdout",
          "output_type": "stream",
          "text": [
            "--- High Risk Setting ---\n",
            "Weights: [0.  0.  0.  0.5 0.5], \n",
            "Expected returns: 0.04, \n",
            "Portfolio Volatility: 0.23\n"
          ]
        }
      ],
      "source": [
        "# expected returns of the investments\n",
        "means = np.array([0.01, 0.02, -0.03, 0.04, 0.04])\n",
        "\n",
        "# higher the covariance[i, i], higher the volatility of the investment #i\n",
        "cov = np.array([[0.02, 0, 0, 0, 0],\n",
        "                [0, 0.03, 0, 0, 0],\n",
        "                [0, 0, 0.02, 0, 0],\n",
        "                [0, 0, 0, 0.9, 0],\n",
        "                [0, 0, 0, 0, 0.02]])\n",
        "\n",
        "# risk \n",
        "# 'low' for low risk and 'high' for high risk\n",
        "\n",
        "risk = 'high'\n",
        "print('--- High Risk Setting ---')\n",
        "_, _ = maximize_return_markowitz(means, cov, risk)"
      ]
    },
    {
      "cell_type": "code",
      "execution_count": 6,
      "metadata": {
        "colab": {
          "base_uri": "https://localhost:8080/"
        },
        "id": "C5DX-CEs0U7O",
        "outputId": "9f245dfc-67d7-464c-8e43-b101e657404f"
      },
      "outputs": [
        {
          "name": "stdout",
          "output_type": "stream",
          "text": [
            "--- Low Risk Setting ---\n",
            "Weights: [ 0.025  0.183 -0.     0.017  0.775], \n",
            "Expected returns: 0.03559, \n",
            "Portfolio Volatility: 0.013\n"
          ]
        }
      ],
      "source": [
        "# expected returns of the investments\n",
        "means = np.array([0.01, 0.02, -0.03, 0.04, 0.04])\n",
        "\n",
        "# higher the covariance[i, i], higher the volatility of the investment #i\n",
        "cov = np.array([[0.02, 0, 0, 0, 0],\n",
        "                [0, 0.03, 0, 0, 0],\n",
        "                [0, 0, 0.02, 0, 0],\n",
        "                [0, 0, 0, 0.9, 0],\n",
        "                [0, 0, 0, 0, 0.02]])\n",
        "\n",
        "# risk \n",
        "# 0 for low risk and 1 for high risk\n",
        "\n",
        "risk = 'low'\n",
        "print('--- Low Risk Setting ---')\n",
        "_, _ = maximize_return_markowitz(means, cov, risk)"
      ]
    },
    {
      "cell_type": "markdown",
      "metadata": {
        "id": "0ou_5etV0U7P"
      },
      "source": [
        "### Plot for Expected returns vs Volatility of the Investment #5"
      ]
    },
    {
      "cell_type": "code",
      "execution_count": 7,
      "metadata": {
        "id": "QlO7QPe30U7Q"
      },
      "outputs": [],
      "source": [
        "# expected returns of the investments\n",
        "means = np.array([0.01, 0.02, -0.03, 0.04, 0.04])\n",
        "\n",
        "# higher the covariance[i, i], higher the volatility of the investment #i\n",
        "cov = np.array([[0.02, 0, 0, 0, 0],\n",
        "                [0, 0.03, 0, 0, 0],\n",
        "                [0, 0, 0.02, 0, 0],\n",
        "                [0, 0, 0, 0.7, 0],\n",
        "                [0, 0, 0, 0, 0.02]])\n",
        "\n",
        "# 10 covariance values from 0.02 to 0.09\n",
        "inv5_covs = np.linspace(0.02, 0.09, 10)\n",
        "returns = []\n",
        "w_allocated = []\n",
        "for i in range(10):\n",
        "    cov[4, 4] = inv5_covs[i]\n",
        "    w_all, ret = maximize_return_markowitz(means, cov, 'low', verbose=False)\n",
        "    returns.append(ret)\n",
        "    w_allocated.append(w_all)\n",
        "\n",
        "w_allocated = np.array(w_allocated)"
      ]
    },
    {
      "cell_type": "code",
      "execution_count": 8,
      "metadata": {
        "colab": {
          "base_uri": "https://localhost:8080/",
          "height": 567
        },
        "id": "XvJmpsiA0U7R",
        "outputId": "86c76924-bf34-4062-fd54-f4078d89e7ff"
      },
      "outputs": [
        {
          "data": {
            "image/png": "[encoded data removed]",
            "text/plain": [
              "<Figure size 1008x648 with 1 Axes>"
            ]
          },
          "metadata": {
            "needs_background": "light"
          },
          "output_type": "display_data"
        }
      ],
      "source": [
        "# creating a segmented bar plot for allocation of the capital vs volatility of the investment #5\n",
        "\n",
        "ticks = np.arange(0, 10)\n",
        "plt.figure(figsize=(14, 9))\n",
        "plt.title('Allocation of the Capital vs Volatility of Investment #5')\n",
        "plt.bar(ticks, w_allocated[:, 0], color='steelblue', label='Investment 1')\n",
        "plt.bar(ticks, w_allocated[:, 1], bottom=w_allocated[:, 0], color='green', label='Investment 2')\n",
        "plt.bar(ticks, w_allocated[:, 2], bottom=w_allocated[:, 1]+w_allocated[:, 0], color='yellow', \n",
        "        label='Investment 3')\n",
        "plt.bar(ticks, w_allocated[:, 3], bottom=w_allocated[:, 2]+w_allocated[:, 1]+w_allocated[:, 0], \n",
        "        color='orange', label='Investment 4')\n",
        "plt.bar(ticks, w_allocated[:, 4], bottom=w_allocated[:, 3]+w_allocated[:, 2]+w_allocated[:, 1]+w_allocated[:, 0], \n",
        "        color='red', label='Investment 5')\n",
        "plt.xlabel('Volatility of Investment #5')\n",
        "plt.ylabel('Allocation of the capital')\n",
        "plt.xticks(ticks=ticks, labels=inv5_covs.round(3))\n",
        "plt.legend()\n",
        "plt.show()"
      ]
    },
    {
      "cell_type": "code",
      "execution_count": 9,
      "metadata": {
        "colab": {
          "base_uri": "https://localhost:8080/",
          "height": 312
        },
        "id": "GIPxm9Fk0U7S",
        "outputId": "0c1d1a0f-c923-4fb4-d37e-5577e71253a9"
      },
      "outputs": [
        {
          "name": "stdout",
          "output_type": "stream",
          "text": [
            "Low Risk Setting\n"
          ]
        },
        {
          "data": {
            "image/png": "[encoded data removed]",
            "text/plain": [
              "<Figure size 432x288 with 1 Axes>"
            ]
          },
          "metadata": {
            "needs_background": "light"
          },
          "output_type": "display_data"
        }
      ],
      "source": [
        "# plotting the graphs\n",
        "print('Low Risk Setting')\n",
        "plt.title('Expected Returns vs Volatility of Investment 5')\n",
        "plt.plot(inv5_covs, returns, 'r-o')\n",
        "plt.xlabel('Covariance of Investment #5')\n",
        "plt.ylabel('Expected returns')\n",
        "plt.grid(True)\n",
        "plt.show()"
      ]
    },
    {
      "cell_type": "markdown",
      "metadata": {
        "id": "fKKNExk30U7T"
      },
      "source": [
        "**Analysis**\n",
        "\n",
        "1. Stock 4 and 5 have the same expected return at the current time. So investing in both to maximize our returns makes sense.\n",
        "2. The volatility of the stock 4 is 0.9 and the volatility of the stock 5 is 0.02.\n",
        "3. According to the risk factor selected in the Markowitz's Portfolio Management, We have options of carefully investing in each of the 2 investments.\n",
        "4. High risk selection: The investment was divided among the stocks 4 and 5 equally, giving the overall returns as 4% (0.04).\n",
        "5. Low risk selection: The investment was divided among the stocks 4 and 5 as: Stock 4: 1.7% and Stock 5: 77.5% and the rest in the Stocks 1 and 2, giving the overall returns as 3.6% (0.036)."
      ]
    },
    {
      "cell_type": "markdown",
      "metadata": {
        "id": "zQnUX3-D0U7U"
      },
      "source": [
        "# "
      ]
    }
  ],
  "metadata": {
    "colab": {
      "name": "Project (2).ipynb",
      "provenance": []
    },
    "interpreter": {
      "hash": "037a0b9608b60d47d13b7896ab0b9a361ec7a6e4a49a1ee0d660dfbd463c9091"
    },
    "kernelspec": {
      "display_name": "Python 3",
      "language": "python",
      "name": "python3"
    },
    "language_info": {
      "codemirror_mode": {
        "name": "ipython",
        "version": 3
      },
      "file_extension": ".py",
      "mimetype": "text/x-python",
      "name": "python",
      "nbconvert_exporter": "python",
      "pygments_lexer": "ipython3",
      "version": "3.10.1"
    }
  },
  "nbformat": 4,
  "nbformat_minor": 0
}
